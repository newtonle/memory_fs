{
 "cells": [
  {
   "cell_type": "markdown",
   "id": "904bfb5b",
   "metadata": {},
   "source": [
    "# Memory File System\n",
    "\n",
    "## Usage\n",
    "\n",
    "Memory File System is an in-memory file system that supports many of the standard UNIX commands. Instantiating a `MemoryFileSystem` object creates an empty file system starting at root:"
   ]
  },
  {
   "cell_type": "code",
   "execution_count": 2,
   "id": "2a5adbf0",
   "metadata": {},
   "outputs": [
    {
     "data": {
      "text/plain": [
       "'/'"
      ]
     },
     "execution_count": 2,
     "metadata": {},
     "output_type": "execute_result"
    }
   ],
   "source": [
    "from memory_fs.memory_fs import MemoryFileSystem\n",
    "\n",
    "fs = MemoryFileSystem()\n",
    "fs.pwd()"
   ]
  },
  {
   "cell_type": "code",
   "execution_count": null,
   "id": "ffcef481",
   "metadata": {},
   "outputs": [],
   "source": []
  }
 ],
 "metadata": {
  "kernelspec": {
   "display_name": "Python 3 (ipykernel)",
   "language": "python",
   "name": "python3"
  },
  "language_info": {
   "codemirror_mode": {
    "name": "ipython",
    "version": 3
   },
   "file_extension": ".py",
   "mimetype": "text/x-python",
   "name": "python",
   "nbconvert_exporter": "python",
   "pygments_lexer": "ipython3",
   "version": "3.9.7"
  }
 },
 "nbformat": 4,
 "nbformat_minor": 5
}
