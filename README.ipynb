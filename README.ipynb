{
 "cells": [
  {
   "cell_type": "markdown",
   "id": "7684ddb5",
   "metadata": {},
   "source": [
    "# Memory File System\n",
    "\n",
    "## Usage\n",
    "\n",
    "Memory File System is an in-memory file system that supports many of the standard UNIX commands. Instantiating a `MemoryFileSystem` object creates an empty file system starting at root:"
   ]
  },
  {
   "cell_type": "code",
   "execution_count": 1,
   "id": "a8f3d5a1",
   "metadata": {},
   "outputs": [
    {
     "data": {
      "text/plain": [
       "'/'"
      ]
     },
     "execution_count": 1,
     "metadata": {},
     "output_type": "execute_result"
    }
   ],
   "source": [
    "from memory_fs.memory_fs import MemoryFileSystem\n",
    "\n",
    "fs = MemoryFileSystem()\n",
    "fs.pwd()"
   ]
  },
  {
   "cell_type": "markdown",
   "id": "fac1d71e",
   "metadata": {},
   "source": [
    "Typical file system commands like `mkdir`, `cd`, and `ls` are supported:"
   ]
  },
  {
   "cell_type": "code",
   "execution_count": 2,
   "id": "66abcba3",
   "metadata": {},
   "outputs": [
    {
     "data": {
      "text/plain": [
       "'/company'"
      ]
     },
     "execution_count": 2,
     "metadata": {},
     "output_type": "execute_result"
    }
   ],
   "source": [
    "fs.mkdir('company')\n",
    "fs.mkdir('company/organization0')\n",
    "fs.cd('company')\n",
    "fs.pwd()"
   ]
  },
  {
   "cell_type": "code",
   "execution_count": 3,
   "id": "97283855",
   "metadata": {},
   "outputs": [
    {
     "data": {
      "text/plain": [
       "['organization0', 'organization1']"
      ]
     },
     "execution_count": 3,
     "metadata": {},
     "output_type": "execute_result"
    }
   ],
   "source": [
    "fs.mkdir('organization1')\n",
    "fs.ls()"
   ]
  },
  {
   "cell_type": "markdown",
   "id": "7dc3d86c",
   "metadata": {},
   "source": [
    "A simplified `walk` command is available, which helps illustrate the files and directories created so far:"
   ]
  },
  {
   "cell_type": "code",
   "execution_count": 4,
   "id": "9a9fe4af",
   "metadata": {},
   "outputs": [
    {
     "name": "stdout",
     "output_type": "stream",
     "text": [
      "\n",
      "/company\n",
      "/company/organization0\n",
      "/company/organization1\n"
     ]
    }
   ],
   "source": [
    "fs.walk('/')"
   ]
  },
  {
   "cell_type": "markdown",
   "id": "8e632130",
   "metadata": {},
   "source": [
    "Files can be written and read with `touch`, `write`, and `read` commands:"
   ]
  },
  {
   "cell_type": "code",
   "execution_count": 5,
   "id": "9c105925",
   "metadata": {},
   "outputs": [
    {
     "data": {
      "text/plain": [
       "'Name: Newton Le'"
      ]
     },
     "execution_count": 5,
     "metadata": {},
     "output_type": "execute_result"
    }
   ],
   "source": [
    "fs.cd('organization0')\n",
    "fs.touch('employee0.txt')\n",
    "fs.write('employee0.txt', 'Name: Newton Le')\n",
    "fs.touch('employee1.txt')\n",
    "fs.write('employee1.txt', 'Name: Tiffany Smith')\n",
    "fs.read('employee0.txt')"
   ]
  },
  {
   "cell_type": "code",
   "execution_count": 6,
   "id": "8532e3f4",
   "metadata": {},
   "outputs": [
    {
     "name": "stdout",
     "output_type": "stream",
     "text": [
      "\n",
      "/company\n",
      "/company/organization0\n",
      "/company/organization0/employee0.txt\n",
      "/company/organization0/employee1.txt\n",
      "/company/organization1\n"
     ]
    }
   ],
   "source": [
    "fs.walk('/')"
   ]
  },
  {
   "cell_type": "markdown",
   "id": "c23d4b3f",
   "metadata": {},
   "source": [
    "`cp` and `mv` commands work, with recurisve folder merging and automatic file name collision handling:"
   ]
  },
  {
   "cell_type": "code",
   "execution_count": 7,
   "id": "a0798e90",
   "metadata": {},
   "outputs": [
    {
     "name": "stdout",
     "output_type": "stream",
     "text": [
      "\n",
      "/company\n",
      "/company/organization0\n",
      "/company/organization0/employee0.txt\n",
      "/company/organization0/employee1.txt\n",
      "/company/organization0/employee2.txt\n",
      "/company/organization1\n",
      "/company2\n",
      "/company2/organization0\n",
      "/company2/organization0/employee0.txt\n",
      "/company2/organization0/employee1.txt\n",
      "/company2/organization1\n"
     ]
    }
   ],
   "source": [
    "fs.cp('/company', '/company2')\n",
    "fs.touch('/company/organization0/employee2.txt')\n",
    "fs.walk('/')"
   ]
  },
  {
   "cell_type": "code",
   "execution_count": 8,
   "id": "26930485",
   "metadata": {},
   "outputs": [
    {
     "name": "stdout",
     "output_type": "stream",
     "text": [
      "\n",
      "/company2\n",
      "/company2/organization0\n",
      "/company2/organization0/employee0.txt\n",
      "/company2/organization0/employee1.txt\n",
      "/company2/organization0/employee0.txt (1)\n",
      "/company2/organization0/employee1.txt (1)\n",
      "/company2/organization0/employee2.txt\n",
      "/company2/organization1\n"
     ]
    }
   ],
   "source": [
    "fs.mv('/company', '/company2')\n",
    "fs.walk('/')"
   ]
  },
  {
   "cell_type": "markdown",
   "id": "83a6d846",
   "metadata": {},
   "source": [
    "of course files and directories can be removed with `rm`:"
   ]
  },
  {
   "cell_type": "code",
   "execution_count": 9,
   "id": "147494d8",
   "metadata": {},
   "outputs": [
    {
     "name": "stdout",
     "output_type": "stream",
     "text": [
      "\n",
      "/company2\n",
      "/company2/organization1\n"
     ]
    }
   ],
   "source": [
    "fs.rm('/company2/organization0', recursive=True)\n",
    "fs.walk('/')"
   ]
  },
  {
   "cell_type": "code",
   "execution_count": null,
   "id": "93451e67",
   "metadata": {},
   "outputs": [],
   "source": []
  }
 ],
 "metadata": {
  "kernelspec": {
   "display_name": "Python 3 (ipykernel)",
   "language": "python",
   "name": "python3"
  },
  "language_info": {
   "codemirror_mode": {
    "name": "ipython",
    "version": 3
   },
   "file_extension": ".py",
   "mimetype": "text/x-python",
   "name": "python",
   "nbconvert_exporter": "python",
   "pygments_lexer": "ipython3",
   "version": "3.9.7"
  }
 },
 "nbformat": 4,
 "nbformat_minor": 5
}
